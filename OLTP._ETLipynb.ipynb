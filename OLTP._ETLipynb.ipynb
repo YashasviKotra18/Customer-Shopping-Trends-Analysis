{
 "cells": [
  {
   "cell_type": "code",
   "execution_count": 4,
   "id": "06217440",
   "metadata": {},
   "outputs": [],
   "source": [
    "import csv\n",
    "import numpy as np\n",
    "import pandas as pd\n",
    "from pandas import DataFrame\n",
    "import sqlite3\n",
    "\n",
    "from DATA225utils import make_connection, dataframe_query"
   ]
  },
  {
   "cell_type": "code",
   "execution_count": 5,
   "id": "021e0dc4",
   "metadata": {},
   "outputs": [],
   "source": [
    "#!pip install mysql-connector-python\n"
   ]
  },
  {
   "cell_type": "code",
   "execution_count": 6,
   "id": "60395bda",
   "metadata": {},
   "outputs": [],
   "source": [
    "conn = make_connection(config_file = 'oltp.ini')\n",
    "cursor = conn.cursor()"
   ]
  },
  {
   "cell_type": "code",
   "execution_count": 8,
   "id": "9df06dc4",
   "metadata": {},
   "outputs": [],
   "source": [
    "main_df = pd.read_csv('trends.csv').dropna(axis=1, how = 'all')\n",
    "#main_df.head(3)"
   ]
  },
  {
   "cell_type": "code",
   "execution_count": 9,
   "id": "05255728",
   "metadata": {},
   "outputs": [],
   "source": [
    "main_df['Date_of_Purchase'] = pd.to_datetime(main_df['Date_of_Purchase'])\n",
    "\n",
    "main_df['Date_of_Purchase'] = main_df['Date_of_Purchase'].apply(lambda x: x.date())\n"
   ]
  },
  {
   "cell_type": "code",
   "execution_count": null,
   "id": "1e7c75ac",
   "metadata": {},
   "outputs": [],
   "source": []
  },
  {
   "cell_type": "code",
   "execution_count": null,
   "id": "8c95efcb",
   "metadata": {},
   "outputs": [],
   "source": []
  },
  {
   "cell_type": "code",
   "execution_count": 22,
   "id": "d3b51a7d",
   "metadata": {},
   "outputs": [
    {
     "data": {
      "text/plain": [
       "\" cursor.execute('''-- -- Drop Foreign Key Constraints\\nALTER TABLE Payment DROP FOREIGN KEY fk_Payment_Purchases;\\nALTER TABLE Shipping DROP FOREIGN KEY fk_Shipping_Purchases;\\nALTER TABLE Location DROP FOREIGN KEY fk_Location_Purchases;\\nALTER TABLE Purchases DROP FOREIGN KEY fk_Purchases_Customers;\\nALTER TABLE Purchases DROP FOREIGN KEY fk_Purchases_Items;\\nALTER TABLE Shipping DROP FOREIGN KEY fk_Shipping_Purchases;\\n\\n-- Drop Tables\\nDROP TABLE IF EXISTS Customers;\\nDROP TABLE IF EXISTS Items;\\nDROP TABLE IF EXISTS ItemDetails;\\nDROP TABLE IF EXISTS Payment;\\nDROP TABLE IF EXISTS Location;\\nDROP TABLE IF EXISTS Shipping;\\nDROP TABLE IF EXISTS Purchases;\\n\\n''' )\\n\\n# Commit the table creations\\nconn.commit()\""
      ]
     },
     "execution_count": 22,
     "metadata": {},
     "output_type": "execute_result"
    }
   ],
   "source": [
    "\"\"\" cursor.execute('''-- -- Drop Foreign Key Constraints\n",
    "ALTER TABLE Payment DROP FOREIGN KEY fk_Payment_Purchases;\n",
    "ALTER TABLE Shipping DROP FOREIGN KEY fk_Shipping_Purchases;\n",
    "ALTER TABLE Location DROP FOREIGN KEY fk_Location_Purchases;\n",
    "ALTER TABLE Purchases DROP FOREIGN KEY fk_Purchases_Customers;\n",
    "ALTER TABLE Purchases DROP FOREIGN KEY fk_Purchases_Items;\n",
    "ALTER TABLE Shipping DROP FOREIGN KEY fk_Shipping_Purchases;\n",
    "\n",
    "-- Drop Tables\n",
    "DROP TABLE IF EXISTS Customers;\n",
    "DROP TABLE IF EXISTS Items;\n",
    "DROP TABLE IF EXISTS ItemDetails;\n",
    "DROP TABLE IF EXISTS Payment;\n",
    "DROP TABLE IF EXISTS Location;\n",
    "DROP TABLE IF EXISTS Shipping;\n",
    "DROP TABLE IF EXISTS Purchases;\n",
    "\n",
    "''' )\n",
    "\n",
    "# Commit the table creations\n",
    "conn.commit()\"\"\""
   ]
  },
  {
   "cell_type": "code",
   "execution_count": 10,
   "id": "ca4fe296",
   "metadata": {},
   "outputs": [],
   "source": [
    "cursor.execute('''\n",
    "\n",
    "CREATE TABLE Customers\n",
    "(\n",
    "  Customer_ID INT NOT NULL,\n",
    "  Age INT NOT NULL,\n",
    "  Gender ENUM('Male', 'Female', 'Other') NOT NULL,\n",
    "  PreviousPurchases INT NOT NULL,\n",
    "  PRIMARY KEY (Customer_ID)\n",
    ");\n",
    "\n",
    "''')\n",
    "\n",
    "\n",
    "cursor.execute('''\n",
    "CREATE TABLE Items\n",
    "(\n",
    "  Item_ID INT NOT NULL,\n",
    "  ItemName VARCHAR(255) NOT NULL,\n",
    "  Category VARCHAR(255) NOT NULL,\n",
    "  PRIMARY KEY (Item_ID)\n",
    ");\n",
    "''')\n",
    "\n",
    "cursor.execute('''\n",
    "CREATE TABLE ItemDetails\n",
    "(\n",
    "  ItemDetails_ID INT NOT NULL,\n",
    "  Size VARCHAR(5) NOT NULL,\n",
    "  Color VARCHAR(255) NOT NULL,\n",
    "  Season VARCHAR(255) NOT NULL,\n",
    "  Item_ID INT NOT NULL,\n",
    "  PRIMARY KEY (ItemDetails_ID),\n",
    "  FOREIGN KEY (Item_ID) REFERENCES Items(Item_ID) ON DELETE CASCADE\n",
    ");\n",
    "''' )\n",
    "\n",
    "\n",
    "cursor.execute('''\n",
    "               \n",
    "CREATE TABLE Location\n",
    "(\n",
    "  Location_ID INT NOT NULL,\n",
    "  Region VARCHAR(255) NOT NULL,\n",
    "  State VARCHAR(255) NOT NULL,\n",
    "  City VARCHAR(255) NOT NULL,\n",
    "  PRIMARY KEY (Location_ID));\n",
    "''')\n",
    "\n",
    "\n",
    "\n",
    "cursor.execute('''\n",
    "\n",
    "CREATE TABLE Payment\n",
    "(\n",
    "  Payment_ID INT NOT NULL,\n",
    "  PaymentMethod VARCHAR(255) NOT NULL,\n",
    "  PRIMARY KEY (Payment_ID) );\n",
    "''')\n",
    "\n",
    "\n",
    "cursor.execute('''\n",
    "              \n",
    "CREATE TABLE Shipping\n",
    "(\n",
    "  Shipping_ID INT NOT NULL,\n",
    "  Shipping_type VARCHAR(255) NOT NULL,\n",
    "  DiscountApplied VARCHAR(255),\n",
    "  PromocodeUsed VARCHAR(255) NOT NULL,\n",
    "  PRIMARY KEY (Shipping_ID),\n",
    "  Payment_ID INT,\n",
    "  FOREIGN KEY (Payment_ID) REFERENCES Payment(Payment_ID) ON DELETE CASCADE);\n",
    "''')\n",
    "\n",
    "cursor.execute('''\n",
    "\n",
    "CREATE TABLE Purchases\n",
    "(\n",
    "  Purchase_ID INT NOT NULL,\n",
    "  Purchase_Date DATE NOT NULL,\n",
    "  Purchase_Amount DECIMAL(10, 2) NOT NULL,\n",
    "  ReviewRating DECIMAL(3, 2) CHECK (ReviewRating BETWEEN 1.00 AND 5.00) NOT NULL,\n",
    "  Purchase_frequency VARCHAR(255) NOT NULL,\n",
    "  Customer_ID INT,\n",
    "  Item_ID INT,\n",
    "  Location_ID INT,\n",
    "  Payment_ID INT,\n",
    "  PRIMARY KEY (Purchase_ID),\n",
    "  FOREIGN KEY (Customer_ID) REFERENCES Customers(Customer_ID) ON DELETE CASCADE,\n",
    "  FOREIGN KEY (Item_ID) REFERENCES Items(Item_ID) ON DELETE CASCADE,\n",
    "  FOREIGN KEY (Location_ID) REFERENCES Location(Location_ID) ON DELETE CASCADE,\n",
    "  FOREIGN KEY (Payment_ID) REFERENCES Payment(Payment_ID) ON DELETE CASCADE );\n",
    "  \n",
    "''')\n",
    "\n",
    "\n",
    "\n",
    "\n",
    "\n",
    "# Commit the table creations\n",
    "conn.commit()"
   ]
  },
  {
   "cell_type": "code",
   "execution_count": 11,
   "id": "91a475cb",
   "metadata": {},
   "outputs": [
    {
     "data": {
      "text/html": [
       "<div>\n",
       "<style scoped>\n",
       "    .dataframe tbody tr th:only-of-type {\n",
       "        vertical-align: middle;\n",
       "    }\n",
       "\n",
       "    .dataframe tbody tr th {\n",
       "        vertical-align: top;\n",
       "    }\n",
       "\n",
       "    .dataframe thead th {\n",
       "        text-align: right;\n",
       "    }\n",
       "</style>\n",
       "<table border=\"1\" class=\"dataframe\">\n",
       "  <thead>\n",
       "    <tr style=\"text-align: right;\">\n",
       "      <th></th>\n",
       "      <th>Customer ID</th>\n",
       "      <th>Age</th>\n",
       "      <th>Gender</th>\n",
       "      <th>Item Purchased</th>\n",
       "      <th>Category</th>\n",
       "      <th>Purchase Amount (USD)</th>\n",
       "      <th>Region</th>\n",
       "      <th>State</th>\n",
       "      <th>City</th>\n",
       "      <th>Size</th>\n",
       "      <th>...</th>\n",
       "      <th>Season</th>\n",
       "      <th>Review Rating</th>\n",
       "      <th>Subscription Status</th>\n",
       "      <th>Shipping Type</th>\n",
       "      <th>Discount Applied</th>\n",
       "      <th>Promo Code Used</th>\n",
       "      <th>Previous Purchases</th>\n",
       "      <th>Payment Method</th>\n",
       "      <th>Frequency of Purchases</th>\n",
       "      <th>Date_of_Purchase</th>\n",
       "    </tr>\n",
       "  </thead>\n",
       "  <tbody>\n",
       "    <tr>\n",
       "      <th>0</th>\n",
       "      <td>17.0</td>\n",
       "      <td>25.0</td>\n",
       "      <td>Male</td>\n",
       "      <td>Sunglasses</td>\n",
       "      <td>Accessories</td>\n",
       "      <td>36.0</td>\n",
       "      <td>Southeast</td>\n",
       "      <td>Alabama</td>\n",
       "      <td>Birmingham</td>\n",
       "      <td>S</td>\n",
       "      <td>...</td>\n",
       "      <td>Spring</td>\n",
       "      <td>4.1</td>\n",
       "      <td>Yes</td>\n",
       "      <td>Next Day Air</td>\n",
       "      <td>Yes</td>\n",
       "      <td>Yes</td>\n",
       "      <td>44.0</td>\n",
       "      <td>Debit Card</td>\n",
       "      <td>Bi-Weekly</td>\n",
       "      <td>2022-10-11</td>\n",
       "    </tr>\n",
       "    <tr>\n",
       "      <th>1</th>\n",
       "      <td>65.0</td>\n",
       "      <td>65.0</td>\n",
       "      <td>Male</td>\n",
       "      <td>Boots</td>\n",
       "      <td>Footwear</td>\n",
       "      <td>83.0</td>\n",
       "      <td>Southeast</td>\n",
       "      <td>Alabama</td>\n",
       "      <td>Birmingham</td>\n",
       "      <td>S</td>\n",
       "      <td>...</td>\n",
       "      <td>Fall</td>\n",
       "      <td>4.8</td>\n",
       "      <td>Yes</td>\n",
       "      <td>Standard</td>\n",
       "      <td>Yes</td>\n",
       "      <td>Yes</td>\n",
       "      <td>18.0</td>\n",
       "      <td>Debit Card</td>\n",
       "      <td>Fortnightly</td>\n",
       "      <td>2023-08-09</td>\n",
       "    </tr>\n",
       "    <tr>\n",
       "      <th>2</th>\n",
       "      <td>71.0</td>\n",
       "      <td>22.0</td>\n",
       "      <td>Male</td>\n",
       "      <td>Belt</td>\n",
       "      <td>Accessories</td>\n",
       "      <td>29.0</td>\n",
       "      <td>Southeast</td>\n",
       "      <td>Alabama</td>\n",
       "      <td>Birmingham</td>\n",
       "      <td>M</td>\n",
       "      <td>...</td>\n",
       "      <td>Fall</td>\n",
       "      <td>4.2</td>\n",
       "      <td>Yes</td>\n",
       "      <td>Express</td>\n",
       "      <td>Yes</td>\n",
       "      <td>Yes</td>\n",
       "      <td>32.0</td>\n",
       "      <td>Debit Card</td>\n",
       "      <td>Every 3 Months</td>\n",
       "      <td>2023-06-06</td>\n",
       "    </tr>\n",
       "  </tbody>\n",
       "</table>\n",
       "<p>3 rows × 21 columns</p>\n",
       "</div>"
      ],
      "text/plain": [
       "   Customer ID   Age Gender Item Purchased     Category  \\\n",
       "0         17.0  25.0   Male     Sunglasses  Accessories   \n",
       "1         65.0  65.0   Male          Boots     Footwear   \n",
       "2         71.0  22.0   Male           Belt  Accessories   \n",
       "\n",
       "   Purchase Amount (USD)      Region    State        City Size  ...  Season  \\\n",
       "0                   36.0  Southeast   Alabama  Birmingham    S  ...  Spring   \n",
       "1                   83.0  Southeast   Alabama  Birmingham    S  ...    Fall   \n",
       "2                   29.0  Southeast   Alabama  Birmingham    M  ...    Fall   \n",
       "\n",
       "  Review Rating  Subscription Status Shipping Type Discount Applied  \\\n",
       "0           4.1                  Yes  Next Day Air              Yes   \n",
       "1           4.8                  Yes      Standard              Yes   \n",
       "2           4.2                  Yes       Express              Yes   \n",
       "\n",
       "  Promo Code Used Previous Purchases  Payment Method Frequency of Purchases  \\\n",
       "0             Yes               44.0      Debit Card              Bi-Weekly   \n",
       "1             Yes               18.0      Debit Card            Fortnightly   \n",
       "2             Yes               32.0      Debit Card         Every 3 Months   \n",
       "\n",
       "  Date_of_Purchase  \n",
       "0       2022-10-11  \n",
       "1       2023-08-09  \n",
       "2       2023-06-06  \n",
       "\n",
       "[3 rows x 21 columns]"
      ]
     },
     "execution_count": 11,
     "metadata": {},
     "output_type": "execute_result"
    }
   ],
   "source": [
    "main_df.head(3)"
   ]
  },
  {
   "cell_type": "markdown",
   "id": "8f448f10",
   "metadata": {},
   "source": [
    "## Customers "
   ]
  },
  {
   "cell_type": "code",
   "execution_count": 12,
   "id": "ed89c551",
   "metadata": {},
   "outputs": [],
   "source": [
    "customer_df = main_df[['Customer ID', 'Age', 'Gender','Previous Purchases']].dropna(subset=['Customer ID'])\n",
    "\n",
    "\n",
    "for row in customer_df.itertuples(index=False):\n",
    "    #print(row)\n",
    "    cursor.execute(\"INSERT INTO datadynamos_db.Customers VALUES (%s,%s,%s,%s)\", row)\n",
    "conn.commit()\n"
   ]
  },
  {
   "cell_type": "markdown",
   "id": "12e04b86",
   "metadata": {},
   "source": [
    "## Items"
   ]
  },
  {
   "cell_type": "code",
   "execution_count": 13,
   "id": "94fbc4f0",
   "metadata": {},
   "outputs": [],
   "source": [
    "\n",
    "Products_df = main_df[['Item Purchased', 'Category']].drop_duplicates(subset=['Item Purchased', 'Category']).dropna()\n",
    "Products_df = Products_df.sort_values(by=['Item Purchased','Category'])\n",
    "\n",
    "Products_df['ItemID'] = range(1, len(Products_df) + 1)\n",
    "\n",
    "Products_df= Products_df[['ItemID','Item Purchased','Category']]\n",
    "\n",
    "\n",
    "for row in Products_df.itertuples(index=False):\n",
    "    #print(row)\n",
    "    cursor.execute(\"INSERT INTO datadynamos_db.Items VALUES (%s,%s,%s)\", row)\n",
    "\n",
    "conn.commit()\n",
    "\n"
   ]
  },
  {
   "cell_type": "markdown",
   "id": "c0ab8ab2",
   "metadata": {},
   "source": [
    "## Item Details"
   ]
  },
  {
   "cell_type": "code",
   "execution_count": 14,
   "id": "72a439f9",
   "metadata": {},
   "outputs": [],
   "source": [
    "joined_df = main_df.merge(Products_df, how='left', on=['Item Purchased','Category'])\n",
    "\n",
    "item_details_df = joined_df[['Size', 'Color','Season','ItemID']].drop_duplicates().dropna()\n",
    "\n",
    "item_details_df['ItemDetails_ID'] = range(1, len(item_details_df) + 1)\n",
    "\n",
    "item_details_df= item_details_df[['ItemDetails_ID','Size','Color', 'Season','ItemID']]\n",
    "\n",
    "for row in item_details_df.itertuples(index=False):\n",
    "    #print(row)\n",
    "    cursor.execute(\"INSERT INTO datadynamos_db.ItemDetails VALUES (%s,%s,%s,%s,'%s')\", row)\n",
    "\n",
    "conn.commit()\n",
    "\n"
   ]
  },
  {
   "cell_type": "markdown",
   "id": "47ae10f6",
   "metadata": {},
   "source": [
    "## Locations"
   ]
  },
  {
   "cell_type": "code",
   "execution_count": 15,
   "id": "9fe48f6f",
   "metadata": {},
   "outputs": [],
   "source": [
    "Locations_df = main_df[['Region', 'State','City']].drop_duplicates().dropna()\n",
    "\n",
    "Locations_df = Locations_df.sort_values(by=['Region', 'State','City'])\n",
    "\n",
    "Locations_df['LocationID'] = range(1, len(Locations_df) + 1)\n",
    "\n",
    "Locations_df= Locations_df[['LocationID','Region', 'State','City']]\n",
    "\n",
    "for row in Locations_df.itertuples(index=False):\n",
    "    #print(row)\n",
    "    cursor.execute(\"INSERT INTO datadynamos_db.Location VALUES (%s,%s,%s,%s)\", row)\n",
    "\n",
    "conn.commit()\n"
   ]
  },
  {
   "cell_type": "markdown",
   "id": "8a3036a4",
   "metadata": {},
   "source": [
    "## Payments"
   ]
  },
  {
   "cell_type": "code",
   "execution_count": 16,
   "id": "b482ca8a",
   "metadata": {},
   "outputs": [],
   "source": [
    "payment_df = main_df['Payment Method'].drop_duplicates().dropna().reset_index(drop=True)\n",
    "payment_df = pd.DataFrame({'Payment_ID': range(1, len(payment_df) + 1), 'Payment Method': payment_df})\n",
    "\n",
    "\n",
    "for row in payment_df.itertuples(index=False):\n",
    "    #print(row)\n",
    "    cursor.execute(\"INSERT INTO datadynamos_db.Payment VALUES (%s,%s)\", row)\n",
    "\n",
    "conn.commit()"
   ]
  },
  {
   "cell_type": "code",
   "execution_count": 17,
   "id": "0de1eeee",
   "metadata": {},
   "outputs": [
    {
     "data": {
      "text/html": [
       "<div>\n",
       "<style scoped>\n",
       "    .dataframe tbody tr th:only-of-type {\n",
       "        vertical-align: middle;\n",
       "    }\n",
       "\n",
       "    .dataframe tbody tr th {\n",
       "        vertical-align: top;\n",
       "    }\n",
       "\n",
       "    .dataframe thead th {\n",
       "        text-align: right;\n",
       "    }\n",
       "</style>\n",
       "<table border=\"1\" class=\"dataframe\">\n",
       "  <thead>\n",
       "    <tr style=\"text-align: right;\">\n",
       "      <th></th>\n",
       "      <th>Payment_ID</th>\n",
       "      <th>Payment Method</th>\n",
       "    </tr>\n",
       "  </thead>\n",
       "  <tbody>\n",
       "    <tr>\n",
       "      <th>0</th>\n",
       "      <td>1</td>\n",
       "      <td>Debit Card</td>\n",
       "    </tr>\n",
       "    <tr>\n",
       "      <th>1</th>\n",
       "      <td>2</td>\n",
       "      <td>Bank Transfer</td>\n",
       "    </tr>\n",
       "    <tr>\n",
       "      <th>2</th>\n",
       "      <td>3</td>\n",
       "      <td>Cash</td>\n",
       "    </tr>\n",
       "    <tr>\n",
       "      <th>3</th>\n",
       "      <td>4</td>\n",
       "      <td>Credit Card</td>\n",
       "    </tr>\n",
       "    <tr>\n",
       "      <th>4</th>\n",
       "      <td>5</td>\n",
       "      <td>PayPal</td>\n",
       "    </tr>\n",
       "    <tr>\n",
       "      <th>5</th>\n",
       "      <td>6</td>\n",
       "      <td>Venmo</td>\n",
       "    </tr>\n",
       "  </tbody>\n",
       "</table>\n",
       "</div>"
      ],
      "text/plain": [
       "   Payment_ID Payment Method\n",
       "0           1     Debit Card\n",
       "1           2  Bank Transfer\n",
       "2           3           Cash\n",
       "3           4    Credit Card\n",
       "4           5         PayPal\n",
       "5           6          Venmo"
      ]
     },
     "execution_count": 17,
     "metadata": {},
     "output_type": "execute_result"
    }
   ],
   "source": [
    "payment_df"
   ]
  },
  {
   "cell_type": "markdown",
   "id": "4906b962",
   "metadata": {},
   "source": [
    "## Shipping"
   ]
  },
  {
   "cell_type": "code",
   "execution_count": 18,
   "id": "cf07b22e",
   "metadata": {},
   "outputs": [
    {
     "name": "stdout",
     "output_type": "stream",
     "text": [
      "    Shipping_ID   Shipping Type Discount Applied Promo Code Used  Payment_ID\n",
      "0             1    Next Day Air              Yes             Yes         1.0\n",
      "1             2        Standard              Yes             Yes         1.0\n",
      "2             3         Express              Yes             Yes         1.0\n",
      "3             4    Next Day Air              Yes             Yes         2.0\n",
      "4             5    Store Pickup              Yes             Yes         1.0\n",
      "..          ...             ...              ...             ...         ...\n",
      "67           68  2-Day Shipping              Yes             Yes         3.0\n",
      "68           69    Next Day Air              Yes             Yes         3.0\n",
      "69           70   Free Shipping              Yes             Yes         2.0\n",
      "70           71    Next Day Air              Yes             Yes         4.0\n",
      "71           72        Standard              Yes             Yes         3.0\n",
      "\n",
      "[72 rows x 5 columns]\n"
     ]
    }
   ],
   "source": [
    "joined_df = main_df.merge(payment_df, how='left', on='Payment Method')\n",
    "\n",
    "# Extract unique shipping information and assign unique IDs\n",
    "shipping_df = joined_df[['Shipping Type', 'Discount Applied', 'Promo Code Used', 'Payment_ID']].drop_duplicates().dropna().reset_index(drop=True)\n",
    "shipping_df['Shipping_ID'] = range(1, len(shipping_df) + 1)\n",
    "shipping_df = shipping_df[['Shipping_ID', 'Shipping Type', 'Discount Applied', 'Promo Code Used', 'Payment_ID']]\n",
    "\n",
    "# Display the new DataFrame\n",
    "print(shipping_df)\n",
    "\n",
    "\n",
    "for row in shipping_df.itertuples(index=False):\n",
    "    # print(row)\n",
    "    cursor.execute(\"INSERT INTO datadynamos_db.Shipping VALUES (%s, %s, %s, %s, %s)\", row)\n",
    "\n",
    "    \n",
    "conn.commit()\n"
   ]
  },
  {
   "cell_type": "code",
   "execution_count": null,
   "id": "4aa6dabc",
   "metadata": {},
   "outputs": [],
   "source": [
    "\n"
   ]
  },
  {
   "cell_type": "markdown",
   "id": "57b42964",
   "metadata": {},
   "source": [
    "## Purchases"
   ]
  },
  {
   "cell_type": "code",
   "execution_count": 19,
   "id": "8cf067f7",
   "metadata": {},
   "outputs": [],
   "source": [
    "joined_df = main_df.merge(customer_df, how='left', on='Customer ID') \\\n",
    "                .merge(Products_df, how='left', on=['Item Purchased','Category']) \\\n",
    "                .merge(Locations_df, how='left', on=['Region', 'State','City'] ) \\\n",
    "                .merge(payment_df, how='left', on=['Payment Method'])\n",
    "                \n",
    "\n",
    "purchase_df = joined_df[['Date_of_Purchase','Purchase Amount (USD)','Review Rating','Frequency of Purchases','Customer ID','ItemID','LocationID','Payment_ID']].drop_duplicates().dropna()\n",
    "\n",
    "\n",
    "purchase_df['Purchase_ID'] = range(1, len(purchase_df) + 1)\n",
    "\n",
    "purchase_df= purchase_df[['Purchase_ID','Date_of_Purchase','Purchase Amount (USD)','Review Rating','Frequency of Purchases','Customer ID','ItemID','LocationID','Payment_ID']]\n",
    "\n",
    "\n",
    "for row in purchase_df.itertuples(index=False):\n",
    "    #print(row)\n",
    "    cursor.execute(\"INSERT INTO datadynamos_db.Purchases VALUES (%s,%s,%s,%s,%s,%s,%s,%s,%s)\", row)\n",
    "\n",
    "conn.commit()\n",
    "\n",
    "\n"
   ]
  },
  {
   "cell_type": "markdown",
   "id": "09b159b3",
   "metadata": {},
   "source": [
    "## "
   ]
  },
  {
   "cell_type": "code",
   "execution_count": null,
   "id": "01ec4182",
   "metadata": {},
   "outputs": [],
   "source": []
  }
 ],
 "metadata": {
  "kernelspec": {
   "display_name": "Python 3 (ipykernel)",
   "language": "python",
   "name": "python3"
  },
  "language_info": {
   "codemirror_mode": {
    "name": "ipython",
    "version": 3
   },
   "file_extension": ".py",
   "mimetype": "text/x-python",
   "name": "python",
   "nbconvert_exporter": "python",
   "pygments_lexer": "ipython3",
   "version": "3.11.5"
  }
 },
 "nbformat": 4,
 "nbformat_minor": 5
}
