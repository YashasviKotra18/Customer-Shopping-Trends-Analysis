{
 "cells": [
  {
   "cell_type": "code",
   "execution_count": 1,
   "id": "12839131",
   "metadata": {},
   "outputs": [],
   "source": [
    "import csv\n",
    "import numpy as np\n",
    "import pandas as pd\n",
    "from pandas import DataFrame\n",
    "import sqlite3\n",
    "\n",
    "from DATA225utils import make_connection, dataframe_query"
   ]
  },
  {
   "cell_type": "code",
   "execution_count": 2,
   "id": "ea74e295",
   "metadata": {},
   "outputs": [],
   "source": [
    "conn_olap = make_connection(config_file = 'olap.ini')\n",
    "cursor_olap = conn_olap.cursor()"
   ]
  },
  {
   "cell_type": "code",
   "execution_count": null,
   "id": "b73f4100",
   "metadata": {},
   "outputs": [],
   "source": []
  },
  {
   "cell_type": "markdown",
   "id": "cfe6a8e1",
   "metadata": {},
   "source": [
    "## create olap tables "
   ]
  },
  {
   "cell_type": "code",
   "execution_count": null,
   "id": "4e2352e4",
   "metadata": {},
   "outputs": [],
   "source": [
    "cursor_olap.execute(\"\"\" \n",
    "CREATE TABLE Calender_dm (\n",
    "  date_id INT NOT NULL,\n",
    "  Purchase_Date DATE NOT NULL,\n",
    "  Day INT NOT NULL,\n",
    "  Month INT NOT NULL,\n",
    "  Quarter INT NOT NULL,\n",
    "  Year INT NOT NULL,\n",
    "  PRIMARY KEY (date_id)\n",
    ");\n",
    "\"\"\")\n"
   ]
  },
  {
   "cell_type": "code",
   "execution_count": null,
   "id": "21a33ff1",
   "metadata": {},
   "outputs": [],
   "source": [
    "cursor_olap.execute(\"\"\" \n",
    "\n",
    "\n",
    "CREATE TABLE Customer_dm (\n",
    "  Customer_ID INT NOT NULL,\n",
    "  Age INT NOT NULL,\n",
    "  Gender ENUM('Male', 'Female', 'Other') NOT NULL,\n",
    "  PreviousPurchases INT NOT NULL,\n",
    "  Purchase_frequency VARCHAR(255) NOT NULL,\n",
    "  PRIMARY KEY (Customer_ID)\n",
    ");\n",
    "\"\"\")"
   ]
  },
  {
   "cell_type": "code",
   "execution_count": null,
   "id": "3054caca",
   "metadata": {},
   "outputs": [],
   "source": [
    "cursor_olap.execute(\"\"\" \n",
    "\n",
    "CREATE TABLE Item_dm (\n",
    "  Item_ID INT NOT NULL,\n",
    "  ItemName VARCHAR(255) NOT NULL,\n",
    "  Category VARCHAR(255) NOT NULL,\n",
    "  PRIMARY KEY (Item_ID),\n",
    "  Size VARCHAR(5) NOT NULL,\n",
    "  Color VARCHAR(255) NOT NULL,\n",
    "  Season VARCHAR(255) NOT NULL\n",
    ");\n",
    "\"\"\")\n",
    "\n"
   ]
  },
  {
   "cell_type": "code",
   "execution_count": null,
   "id": "14fb355b",
   "metadata": {},
   "outputs": [],
   "source": [
    "cursor_olap.execute(\"\"\"  CREATE TABLE Location_dm (\n",
    "  Location_ID INT NOT NULL,\n",
    "  Region VARCHAR(255) NOT NULL,\n",
    "  State VARCHAR(255) NOT NULL,\n",
    "  City VARCHAR(255) NOT NULL,\n",
    "  PRIMARY KEY (Location_ID)\n",
    ");\n",
    "\"\"\")"
   ]
  },
  {
   "cell_type": "code",
   "execution_count": null,
   "id": "813f9098",
   "metadata": {},
   "outputs": [],
   "source": [
    "cursor_olap.execute(\"\"\" \n",
    "CREATE TABLE Payments_Shipping_dm (\n",
    "  Payment_ID INT NOT NULL,\n",
    "  PaymentMethod VARCHAR(255) NOT NULL,\n",
    "  Shipping_type VARCHAR(255) NOT NULL,\n",
    "  Discount_applied VARCHAR(255) NOT NULL,\n",
    "  PRIMARY KEY (Payment_ID)\n",
    ");\n",
    "\"\"\")\n"
   ]
  },
  {
   "cell_type": "code",
   "execution_count": null,
   "id": "b1c9361c",
   "metadata": {},
   "outputs": [],
   "source": [
    "\n",
    "\n",
    "cursor_olap.execute(\"\"\" \n",
    "CREATE TABLE Reviews_Fct (\n",
    "  ReviewRating DECIMAL(3, 2) CHECK (ReviewRating BETWEEN 1.00 AND 5.00) NOT NULL,\n",
    "  Item_ID INT NOT NULL,\n",
    "  Customer_ID INT NOT NULL,\n",
    "  PRIMARY KEY (Item_ID, Customer_ID),\n",
    "  CONSTRAINT Reviews_Fct_ibfk_1 FOREIGN KEY (Item_ID) REFERENCES Item_dm (Item_ID),\n",
    "  CONSTRAINT Reviews_Fct_ibfk_2 FOREIGN KEY (Customer_ID) REFERENCES Customer_dm (Customer_ID)\n",
    ");\n",
    "\n",
    "\"\"\")\n"
   ]
  },
  {
   "cell_type": "code",
   "execution_count": null,
   "id": "bbb43020",
   "metadata": {},
   "outputs": [],
   "source": []
  },
  {
   "cell_type": "code",
   "execution_count": null,
   "id": "ed9e235c",
   "metadata": {},
   "outputs": [],
   "source": [
    "\n",
    "cursor_olap.execute(\"\"\" \n",
    "CREATE TABLE Sales_Fct (\n",
    "  Purchase_Amount DECIMAL(10, 2) NOT NULL,\n",
    "  Customer_ID INT,\n",
    "  Item_ID INT,\n",
    "  Location_ID INT,\n",
    "  Payment_ID INT,\n",
    "  date_id int,\n",
    "  PRIMARY KEY (Customer_ID, Item_ID, Location_ID, date_id, Payment_ID),\n",
    "  KEY Sales_fct_ibfk_2 (Item_ID),\n",
    "  KEY Sales_fct_ibfk_3 (Location_ID),\n",
    "  KEY Sales_fct_ibfk_4 (date_id),\n",
    "  KEY Sales_fct_ibfk_5 (Payment_ID),\n",
    "  CONSTRAINT Sales_Fct_ibfk_1 FOREIGN KEY (Customer_ID) REFERENCES Customer_dm (Customer_ID),\n",
    "  CONSTRAINT Sales_Fct_ibfk_2 FOREIGN KEY (Item_ID) REFERENCES Item_dm (Item_ID),\n",
    "  CONSTRAINT Sales_Fct_ibfk_3 FOREIGN KEY (Location_ID) REFERENCES Location_dm (Location_ID),\n",
    "  CONSTRAINT Sales_Fct_ibfk_4 FOREIGN KEY (date_id) REFERENCES Calender_dm (date_id),\n",
    "  CONSTRAINT Sales_Fct_ibfk_5 FOREIGN KEY (Payment_ID) REFERENCES Payments_Shipping_dm (Payment_ID)\n",
    ");\n",
    "\"\"\")\n"
   ]
  },
  {
   "cell_type": "code",
   "execution_count": null,
   "id": "eef7610d",
   "metadata": {},
   "outputs": [],
   "source": [
    "conn_olap.commit()"
   ]
  },
  {
   "cell_type": "markdown",
   "id": "3e91032f",
   "metadata": {},
   "source": [
    "To describe how dimension and fact tables are populated from operational tables, let's assume we have two fact tables: `Sales_Fact` and `Customer_Activity_Fact`, along with dimension tables: `Customers_Dim`, `Items_Dim`, `Locations_Dim`, `Payments_Shipping_Dim`, and `Time_Dim`.\n",
    "\n",
    "1. **Populating Dimension Tables:**\n",
    "\n",
    "    - **Customers_Dim:**\n",
    "      - Populate from the operational Customers Table.\n",
    "      - Extract distinct values for each attribute (Age, Gender, Freq_Purchase).\n",
    "      - Assign a surrogate key (Customer_SK) as the primary key.\n",
    "\n",
    "    - **Items_Dim:**\n",
    "      - Populate from the operational Items Table.\n",
    "      - Extract distinct values for each attribute (Item_Name, Category, Size, Color).\n",
    "      - Assign a surrogate key (Item_SK) as the primary key.\n",
    "\n",
    "   \n",
    "    - **Payements_Shipping_Dim:**\n",
    "      - Populate from the operational PAYMENT AND SHIPPING Table.\n",
    "      - Extract distinct values for the Shipping_Type attribute.\n",
    "      - Assign a surrogate key (Shipping_SK) as the primary key.\n",
    "      \n",
    "      \n",
    "    - **Locations_Dim:** (hierarchical)\n",
    "      - Populate from the operational Locations Table.\n",
    "      - Extract distinct values for each attribute (Region, State, City).\n",
    "      - Assign a surrogate key (Location_SK) as the primary key.\n",
    "\n",
    "   \n",
    "    - **Calendr_Dim:** (hierarchical)\n",
    "      - Populate from the operational Purchase Table with derived attributes.\n",
    "      - Extract distinct values for the Date attribute.\n",
    "      - Create additional attributes such as Year, Month, Day, Quarter, and Season.\n",
    "      - Assign a surrogate key (Time_SK) as the primary key.\n",
    "\n",
    "2. **Populating Fact Tables:**\n",
    "\n",
    "    - **Sales_Fact:**\n",
    "      - Populate from the operational Purchases Table.\n",
    "      - Use foreign keys (Customer_SK, Item_SK, Location_SK, Shipping_SK, Promo_SK, Time_SK) obtained from the dimension tables.\n",
    "      - Include measures such as Sales_Amount.\n",
    "\n",
    "    - **Customer_Reviews_Fact:**\n",
    "      - Populate from the operational Customers Table.\n",
    "      - Use the foreign key (Customer_SK) obtained from the Customers_Dim table.\n",
    "      - Include measures such as Customer_Reviwes, Freq_Of_Purchase.\n",
    "\n",
    "In summary, the ETL (Extract, Transform, Load) process involves extracting data from the operational tables, transforming it into the required format for the dimension and fact tables, and loading it into the dimensional model. The surrogate keys in dimension tables serve as unique identifiers, and foreign keys in fact tables establish relationships with dimension tables. This dimensional model provides a structured and efficient way to analyze and query the data for business intelligence purposes."
   ]
  },
  {
   "cell_type": "code",
   "execution_count": null,
   "id": "bc4a4617",
   "metadata": {},
   "outputs": [],
   "source": []
  },
  {
   "cell_type": "markdown",
   "id": "9775ac6c",
   "metadata": {},
   "source": [
    "## Load to Olap"
   ]
  },
  {
   "cell_type": "code",
   "execution_count": 3,
   "id": "adc3c45e",
   "metadata": {},
   "outputs": [],
   "source": [
    "cursor_olap.execute(\"\"\" \n",
    "INSERT INTO Calender_dm (date_id,Purchase_Date, Day, Month, Quarter, Year)\n",
    "SELECT \n",
    "    Purchase_ID as date_id,\n",
    "    Purchase_Date,\n",
    "    DAY(Purchase_Date) AS Day,\n",
    "    MONTH(Purchase_Date) AS Month,\n",
    "    QUARTER(Purchase_Date) AS Quarter,\n",
    "    YEAR(Purchase_Date) AS Year\n",
    "FROM datadynamos_db.Purchases;\n",
    "\"\"\")\n",
    "conn_olap.commit()"
   ]
  },
  {
   "cell_type": "code",
   "execution_count": 6,
   "id": "24f3bfe0",
   "metadata": {},
   "outputs": [],
   "source": [
    "cursor_olap.execute(\"\"\" INSERT INTO Customer_dm (Customer_ID, Age, Gender, PreviousPurchases, Purchase_frequency)\n",
    "SELECT\n",
    "    c.Customer_ID,\n",
    "    c.Age,\n",
    "    c.Gender,\n",
    "    c.PreviousPurchases,\n",
    "    p.Purchase_frequency\n",
    "FROM datadynamos_db.Customers c\n",
    "JOIN datadynamos_db.Purchases p ON c.Customer_ID = p.Customer_ID;\n",
    "\"\"\")\n",
    "conn_olap.commit()"
   ]
  },
  {
   "cell_type": "code",
   "execution_count": 11,
   "id": "27b4f7d5",
   "metadata": {},
   "outputs": [],
   "source": [
    "cursor_olap.execute(\"\"\" INSERT INTO Item_dm (Item_ID, ItemName, Category, Size, Color, Season)\n",
    "SELECT\n",
    "    id.ItemDetails_ID as Item_ID,\n",
    "    i.ItemName,\n",
    "    i.Category,\n",
    "    id.Size,\n",
    "    id.Color,\n",
    "    id.Season\n",
    "FROM datadynamos_db.Items i\n",
    "JOIN datadynamos_db.ItemDetails id ON i.Item_ID = id.Item_ID;\n",
    "\"\"\")\n",
    "conn_olap.commit()"
   ]
  },
  {
   "cell_type": "code",
   "execution_count": 14,
   "id": "176b5151",
   "metadata": {},
   "outputs": [],
   "source": [
    "cursor_olap.execute(\"\"\" INSERT INTO Location_dm (Location_ID, Region, State, City)\n",
    "SELECT\n",
    "    Location_ID,\n",
    "    Region,\n",
    "    State,\n",
    "    City\n",
    "FROM datadynamos_db.Location;\n",
    "\"\"\")\n",
    "conn_olap.commit()"
   ]
  },
  {
   "cell_type": "code",
   "execution_count": null,
   "id": "956837d2",
   "metadata": {},
   "outputs": [],
   "source": []
  },
  {
   "cell_type": "code",
   "execution_count": 16,
   "id": "d844fba9",
   "metadata": {},
   "outputs": [],
   "source": [
    "cursor_olap.execute(\"\"\" INSERT INTO Payments_Shipping_dm (Payment_ID, PaymentMethod, Shipping_type, Discount_applied)\n",
    "SELECT\n",
    "    s.Shipping_ID as Payment_ID,\n",
    "    p.PaymentMethod,\n",
    "    s.Shipping_type,\n",
    "    s.DiscountApplied\n",
    "FROM datadynamos_db.Payment p\n",
    "JOIN datadynamos_db.Shipping s ON p.Payment_ID = s.Payment_ID;\n",
    "\"\"\")\n",
    "conn_olap.commit()"
   ]
  },
  {
   "cell_type": "code",
   "execution_count": null,
   "id": "6142c439",
   "metadata": {},
   "outputs": [],
   "source": []
  },
  {
   "cell_type": "code",
   "execution_count": 17,
   "id": "752dd173",
   "metadata": {},
   "outputs": [],
   "source": [
    "cursor_olap.execute(\"\"\" INSERT INTO Reviews_Fct (ReviewRating, Item_ID, Customer_ID)\n",
    "SELECT\n",
    "    p.ReviewRating,\n",
    "    i.Item_ID,\n",
    "    c.Customer_ID\n",
    "FROM datadynamos_db.Purchases p\n",
    "JOIN Item_dm i ON p.Item_ID = i.Item_ID\n",
    "JOIN Customer_dm c ON p.Customer_ID = c.Customer_ID;\n",
    "\"\"\")\n",
    "conn_olap.commit()"
   ]
  },
  {
   "cell_type": "code",
   "execution_count": null,
   "id": "9752eb29",
   "metadata": {},
   "outputs": [],
   "source": []
  },
  {
   "cell_type": "code",
   "execution_count": 19,
   "id": "2e44682d",
   "metadata": {},
   "outputs": [],
   "source": [
    "cursor_olap.execute(\"\"\" INSERT INTO Sales_Fct (Purchase_Amount, Customer_ID, Item_ID, Location_ID, date_id, Payment_ID)\n",
    "SELECT\n",
    "    p.Purchase_Amount,\n",
    "    c.Customer_ID,\n",
    "    i.Item_ID,\n",
    "    l.Location_ID,\n",
    "    cd.date_id,\n",
    "    psd.Payment_ID\n",
    "FROM datadynamos_db.Purchases p\n",
    "JOIN Customer_dm c ON p.Customer_ID = c.Customer_ID\n",
    "JOIN Item_dm i ON p.Item_ID = i.Item_ID\n",
    "JOIN Location_dm l ON p.Location_ID = l.Location_ID\n",
    "JOIN Calender_dm cd ON p.Purchase_Date = cd.Purchase_Date\n",
    "JOIN Payments_Shipping_dm psd ON p.Payment_ID = psd.Payment_ID;\n",
    "\"\"\")\n",
    "conn_olap.commit()"
   ]
  },
  {
   "cell_type": "code",
   "execution_count": null,
   "id": "d7069eef",
   "metadata": {},
   "outputs": [],
   "source": []
  },
  {
   "cell_type": "code",
   "execution_count": null,
   "id": "38759b30",
   "metadata": {},
   "outputs": [],
   "source": []
  },
  {
   "cell_type": "code",
   "execution_count": null,
   "id": "6ebac063",
   "metadata": {},
   "outputs": [],
   "source": []
  },
  {
   "cell_type": "code",
   "execution_count": null,
   "id": "5ee8f872",
   "metadata": {},
   "outputs": [],
   "source": []
  }
 ],
 "metadata": {
  "kernelspec": {
   "display_name": "Python 3 (ipykernel)",
   "language": "python",
   "name": "python3"
  },
  "language_info": {
   "codemirror_mode": {
    "name": "ipython",
    "version": 3
   },
   "file_extension": ".py",
   "mimetype": "text/x-python",
   "name": "python",
   "nbconvert_exporter": "python",
   "pygments_lexer": "ipython3",
   "version": "3.11.4"
  }
 },
 "nbformat": 4,
 "nbformat_minor": 5
}
